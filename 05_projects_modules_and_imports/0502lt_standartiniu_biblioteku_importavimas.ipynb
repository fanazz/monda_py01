{
 "cells": [
  {
   "cell_type": "markdown",
   "metadata": {},
   "source": [
    "# Standartinių bibliotekų importavimas"
   ]
  },
  {
   "cell_type": "markdown",
   "metadata": {},
   "source": [
    "## import this - \"The Zen of Python\" (Python'o dvasia)"
   ]
  },
  {
   "cell_type": "markdown",
   "metadata": {},
   "source": [
    "\"The Zen of Python\" (liet. „Python'o Dvasia“) yra Python programavimo kalbos filosofiją atspindinti poema, kurią sukūrė Tim Peters. Norėdami ją pamatyti, įvykdykite šią komandą:"
   ]
  },
  {
   "cell_type": "code",
   "execution_count": 1,
   "metadata": {},
   "outputs": [
    {
     "name": "stdout",
     "output_type": "stream",
     "text": [
      "The Zen of Python, by Tim Peters\n",
      "\n",
      "Beautiful is better than ugly.\n",
      "Explicit is better than implicit.\n",
      "Simple is better than complex.\n",
      "Complex is better than complicated.\n",
      "Flat is better than nested.\n",
      "Sparse is better than dense.\n",
      "Readability counts.\n",
      "Special cases aren't special enough to break the rules.\n",
      "Although practicality beats purity.\n",
      "Errors should never pass silently.\n",
      "Unless explicitly silenced.\n",
      "In the face of ambiguity, refuse the temptation to guess.\n",
      "There should be one-- and preferably only one --obvious way to do it.\n",
      "Although that way may not be obvious at first unless you're Dutch.\n",
      "Now is better than never.\n",
      "Although never is often better than *right* now.\n",
      "If the implementation is hard to explain, it's a bad idea.\n",
      "If the implementation is easy to explain, it may be a good idea.\n",
      "Namespaces are one honking great idea -- let's do more of those!\n"
     ]
    }
   ],
   "source": [
    "import this"
   ]
  },
  {
   "cell_type": "markdown",
   "metadata": {},
   "source": [
    "Poemos pagrindiniai principai pabrėžia:\n",
    "\n",
    "- Aiškumas yra geriau už dviprasmiškumą.\n",
    "- Paprastumas viršija komplikacijas.\n",
    "- \"Dvigubai geriau\" nėra toks geras kaip \"gerai pakanka\".\n",
    "- Praktika yra svarbesnė už teoriją."
   ]
  },
  {
   "cell_type": "markdown",
   "metadata": {},
   "source": [
    "## `import random` - atsitiktinių skaičių generatoriaus funkcijos"
   ]
  },
  {
   "cell_type": "code",
   "execution_count": 8,
   "metadata": {},
   "outputs": [
    {
     "name": "stdout",
     "output_type": "stream",
     "text": [
      "0.938391634344467\n",
      "10\n",
      "e\n"
     ]
    }
   ],
   "source": [
    "import random\n",
    "\n",
    "# generuoja atsitiktinį (float) skaičių tarp 0.0 ir 1.0.\n",
    "print(random.random())\n",
    "\n",
    "# generuoja atsitiktinį sveikąjį skaičių (int) tarp 1 ir 10 imtinai.\n",
    "print(random.randint(1, 10))\n",
    "\n",
    "# atsitiktinai pasirenka elementą iš sekos, tokių kaip sąrašas.\n",
    "my_list = [\"a\", \"b\", \"c\", \"d\", \"e\"]\n",
    "print(random.choice(my_list))"
   ]
  },
  {
   "cell_type": "markdown",
   "metadata": {},
   "source": [
    "### Greita Užduotis 1: Python Funkcijos Sukūrimas\n",
    "\n",
    "Parašykite Python funkciją pavadinimu `print_and_sort_random_numbers`, kuri atliktų šiuos veiksmus:\n",
    "\n",
    "1. Sugeneruokite 10 atsitiktinių sveikųjų skaičių tarp 1 ir 100.\n",
    "1. Atspausdinkite pradinį atsitiktinių skaičių sąrašą.\n",
    "1. Išrikiuokite sąrašą didėjančia tvarka.\n",
    "1. Atspausdinkite surikiuotą sąrašą."
   ]
  },
  {
   "cell_type": "code",
   "execution_count": 16,
   "metadata": {},
   "outputs": [
    {
     "name": "stdout",
     "output_type": "stream",
     "text": [
      "Pradinis sąrašas: [43, 17, 82, 4, 59, 58, 21, 76, 62, 26]\n",
      "Surikiuotas sąrašas: [4, 17, 21, 26, 43, 58, 59, 62, 76, 82]\n"
     ]
    }
   ],
   "source": [
    "import random\n",
    "\n",
    "def print_and_sort_random_numbers():\n",
    "    \n",
    "    random_numbers = random.sample(range(1, 101), 10)\n",
    "    print(\"Pradinis sąrašas:\", random_numbers)\n",
    "    \n",
    "    random_numbers.sort()\n",
    "    \n",
    "    print(\"Surikiuotas sąrašas:\", random_numbers)\n",
    "\n",
    "\n",
    "print_and_sort_random_numbers()"
   ]
  },
  {
   "cell_type": "markdown",
   "metadata": {},
   "source": [
    "## `import math` - papildomos matematinės funkcijos"
   ]
  },
  {
   "cell_type": "markdown",
   "metadata": {},
   "source": [
    "Python'o `math` biblioteka suteikia prieigą prie papildomų matematinių funkcijų ir konstantų, tokių kaip π (pi) ir e. Štai keletas pavyzdžių:"
   ]
  },
  {
   "cell_type": "code",
   "execution_count": 17,
   "metadata": {},
   "outputs": [
    {
     "name": "stdout",
     "output_type": "stream",
     "text": [
      "1.0\n",
      "120\n",
      "3.0\n"
     ]
    }
   ],
   "source": [
    "import math\n",
    "\n",
    "# funkcija apskaičiuoja sinuso reikšmę\n",
    "print(math.sin(math.pi / 2))\n",
    "\n",
    "# funkcija apskaičiuoja faktorialą\n",
    "print(math.factorial(5))\n",
    "\n",
    "# funkcija apskaičiuoja kvadratinę šaknį\n",
    "print(math.sqrt(9))"
   ]
  },
  {
   "cell_type": "markdown",
   "metadata": {},
   "source": [
    "### Greita užduotis 2: Kauliukų žaidimas\n",
    "\n",
    "Sukurkite kauliukų žaidimą, kuris:\n",
    "\n",
    "- Sugeneruotų tris atsitiktinius skaičius nuo 1 iki 6\n",
    "- Jei vienas iš šių skaičių yra 5, atspausdinti „Pralaimėjai...“\n",
    "- Kitu atveju atspausdinti „Laimėjai!“\n",
    "- Patarimas: Naudokite ciklą"
   ]
  },
  {
   "cell_type": "code",
   "execution_count": 33,
   "metadata": {},
   "outputs": [
    {
     "name": "stdout",
     "output_type": "stream",
     "text": [
      "Kauliuko skaičius: 3\n",
      "Kauliuko skaičius: 1\n",
      "Kauliuko skaičius: 6\n",
      "Laimėjai!\n"
     ]
    }
   ],
   "source": [
    "import random\n",
    "\n",
    "def dice_game():\n",
    "    for _ in range(3):\n",
    "        roll = random.randint(1, 6)\n",
    "        print(f\"Kauliuko skaičius: {roll}\")\n",
    "        \n",
    "\n",
    "        if roll == 5:\n",
    "            print(\"Pralaimėjai...\")\n",
    "            return  \n",
    "        \n",
    "    print(\"Laimėjai!\")\n",
    "\n",
    "\n",
    "dice_game()"
   ]
  },
  {
   "cell_type": "markdown",
   "metadata": {},
   "source": [
    "## `import calendar` - kalendoriaus funkcijos"
   ]
  },
  {
   "cell_type": "markdown",
   "metadata": {},
   "source": [
    "Python'o `calendar` biblioteka suteikia galimybes dirbti su kalendoriais ir atlikti tokias operacijas kaip keliamųjų metų tikrinimą arba savaitės dienos nustatymą pagal datą. Štai keletas pavyzdžių:"
   ]
  },
  {
   "cell_type": "code",
   "execution_count": null,
   "metadata": {},
   "outputs": [],
   "source": [
    "import calendar\n",
    "\n",
    "# Tikrinti, ar metai yra keliamieji\n",
    "print(calendar.isleap(2023))\n",
    "\n",
    "# Gaukite savaitės dienos pavadinimą pagal skaičių\n",
    "print(calendar.day_name[1]) # 'Tuesday'\n",
    "\n",
    "# Gaukite mėnesio dienų skaičių\n",
    "print(calendar.monthrange(2023, 4)) # (5, 30) - pirmoji balandžio diena yra šeštadienis (5), o balandžio mėnesyje yra 30 dienų\n",
    "\n",
    "# Atspausdinti mėnesio kalendorių\n",
    "print(calendar.month(2023, 4))"
   ]
  },
  {
   "cell_type": "markdown",
   "metadata": {},
   "source": [
    "`calendar` biblioteka turi daugiau funkcijų ir savybių, kurios padės jums dirbti su datomis ir laiku. Šie pavyzdžiai yra tik pradžia. Galite rasti daugiau informacijos apie `calendar` biblioteką [Python dokumentacijoje](https://docs.python.org/3/library/calendar.html)."
   ]
  },
  {
   "cell_type": "markdown",
   "metadata": {},
   "source": [
    "### Greita užduotis 3: `calendar` bibliotekos naudojimas"
   ]
  },
  {
   "cell_type": "markdown",
   "metadata": {},
   "source": [
    "Sukurkite Python funkciją, kuri vadinasi `print_month_calendar`.\n",
    "\n",
    "- Funkcija turėtų priimti du parametrus: metai ir menesis.\n",
    "- Funkcijos viduje, naudodami calendar modulį, sugeneruokite ir atspausdinkite nurodyto mėnesio kalendorių.\n",
    "- Apskaičiuokite ir atspausdinkite, kiek yra savaitgalio dienų (šeštadienių ir sekmadienių) nurodytame mėnesyje."
   ]
  },
  {
   "cell_type": "code",
   "execution_count": 39,
   "metadata": {},
   "outputs": [
    {
     "name": "stdout",
     "output_type": "stream",
     "text": [
      "Kalendorius March 2024:\n",
      "P     A    T    K   Pn    Š    S\n",
      "                     1    2    3   \n",
      " 4    5    6    7    8    9   10   \n",
      "11   12   13   14   15   16   17   \n",
      "18   19   20   21   22   23   24   \n",
      "25   26   27   28   29   30   31   \n",
      "\n",
      "Savaitgalio dienos: 10 dienos\n"
     ]
    }
   ],
   "source": [
    "import calendar\n",
    "\n",
    "def print_month_calendar(metai, menesis):\n",
    "\n",
    "    kalendorius = calendar.monthcalendar(metai, menesis)\n",
    "\n",
    "    print(f\"Kalendorius {calendar.month_name[menesis]} {metai}:\")\n",
    "    print(\"P     A    T    K   Pn    Š    S\")\n",
    "\n",
    "    for savaite in kalendorius:\n",
    "        for diena in savaite:\n",
    "            if diena == 0:\n",
    "                print(\"    \", end=\" \")\n",
    "            else:\n",
    "                print(f\"{diena:2d}  \", end=\" \")\n",
    "        print()\n",
    "\n",
    "    savaitgalio_dienos = sum(1 for savaite in kalendorius for diena in savaite if diena > 0 and calendar.weekday(metai, menesis, diena) in [5, 6])\n",
    "\n",
    "    print(f\"\\nSavaitgalio dienos: {savaitgalio_dienos} dienos\")\n",
    "\n",
    "\n",
    "print_month_calendar(2024, 3) "
   ]
  }
 ],
 "metadata": {
  "kernelspec": {
   "display_name": "venv",
   "language": "python",
   "name": "python3"
  },
  "language_info": {
   "codemirror_mode": {
    "name": "ipython",
    "version": 3
   },
   "file_extension": ".py",
   "mimetype": "text/x-python",
   "name": "python",
   "nbconvert_exporter": "python",
   "pygments_lexer": "ipython3",
   "version": "3.11.7"
  }
 },
 "nbformat": 4,
 "nbformat_minor": 2
}
