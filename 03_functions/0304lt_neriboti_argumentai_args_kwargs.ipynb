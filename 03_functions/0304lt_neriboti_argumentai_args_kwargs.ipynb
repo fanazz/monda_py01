{
 "cells": [
  {
   "cell_type": "markdown",
   "metadata": {},
   "source": [
    "# Neriboti argumentai `*args` ir `**kwargs`\n",
    "\n",
    "## `*args`\n",
    "\n",
    "- yra ypatingas Python sintaksės elementas, leidžiantis perduoti bet kokį pozicinio argumento skaičių į funkciją.\n",
    "- sukuria tuple iš visų perduotų pozicinių argumentų, kurią galima naudoti kaip bet kurią kitą tuple.\n",
    "\n",
    "**Pavyzdys**:"
   ]
  },
  {
   "cell_type": "code",
   "execution_count": 3,
   "metadata": {},
   "outputs": [
    {
     "name": "stdout",
     "output_type": "stream",
     "text": [
      "1\n",
      "2\n",
      "3\n",
      "nereikia\n",
      "sirgti\n"
     ]
    }
   ],
   "source": [
    "def spausdinti_args(*args):\n",
    "    for elementas in args:\n",
    "        print(elementas)\n",
    "\n",
    "spausdinti_args(1, 2, 3, \"nereikia\", \"sirgti\")"
   ]
  },
  {
   "cell_type": "markdown",
   "metadata": {},
   "source": [
    "!!!Naudojant (*args), visi skliaustuose nurodyti argumentai sukuria Tuple ir patenka į atsakymą.!!! "
   ]
  },
  {
   "cell_type": "markdown",
   "metadata": {},
   "source": [
    "`Sumavimo` funkcijos pavyzdys naudojant `*args`:"
   ]
  },
  {
   "cell_type": "code",
   "execution_count": 4,
   "metadata": {},
   "outputs": [
    {
     "name": "stdout",
     "output_type": "stream",
     "text": [
      "6\n",
      "22\n"
     ]
    }
   ],
   "source": [
    "def suma_reiksmiu(*args):\n",
    "    total = 0\n",
    "    for skaičiai in args:\n",
    "        total += skaičiai\n",
    "    return total\n",
    "\n",
    "print(suma_reiksmiu(1, 2, 3))  # 6\n",
    "print(suma_reiksmiu(4, 5, 6, 7))  # 22"
   ]
  },
  {
   "cell_type": "markdown",
   "metadata": {},
   "source": [
    "!!!Pavyzdyje sukurtas kintamasis total, kurio reik6m4 lygi 0 (2 kodo eilutė), tada 3 kodo eilutėje visi nurodyti kintamieji (7 ir 8 eilutės) priskiriami kintamajam skaičiai. Ketvirtoje kodo eilutėje visi priskirti kintamieji naudojant kintamąjį total ir formulę sudedami. Return funkcija grąžina visų nurodytų kintamųjų sumą!!!!"
   ]
  },
  {
   "cell_type": "markdown",
   "metadata": {},
   "source": [
    "Funkcija, kuri `sujungia` ir spausdina visus `*args` elementus:"
   ]
  },
  {
   "cell_type": "code",
   "execution_count": 6,
   "metadata": {},
   "outputs": [
    {
     "name": "stdout",
     "output_type": "stream",
     "text": [
      "Labas Pasauli\n",
      "12 34\n"
     ]
    }
   ],
   "source": [
    "def sujungti(*args):\n",
    "    sujungta = \"\"\n",
    "    for arg in args:\n",
    "        sujungta += str(arg)\n",
    "    print(sujungta)\n",
    "\n",
    "sujungti(\"Labas\", \" \", \"Pasauli\")  # Labas Pasauli\n",
    "sujungti(1, 2, ' ', 3, 4)  # 1234"
   ]
  },
  {
   "cell_type": "markdown",
   "metadata": {},
   "source": [
    "!!!Sukuriamas naujas kintamasis \"sujungta\". 3 kodo eilutė jau aiški, žiūrėti aukščiau. 4 eilutėj naujam kintamajam 'sujungta' vertinant kaip teksto eilutę(str) reikšmę sujungiami visi nurodyti argumentai 7 ar 8 eilutėj. Atkreiptinas dėmesys, norint tarpo reik rašyti \" \"!!!"
   ]
  },
  {
   "cell_type": "markdown",
   "metadata": {},
   "source": [
    "Funkcija, kuri `grąžina` visus `*args` elementus, kurie yra didesni už nurodytą skaičių:"
   ]
  },
  {
   "cell_type": "code",
   "execution_count": 7,
   "metadata": {},
   "outputs": [
    {
     "name": "stdout",
     "output_type": "stream",
     "text": [
      "[4, 5]\n",
      "[]\n"
     ]
    }
   ],
   "source": [
    "def didesni_uz(skaicius, *args):\n",
    "    didesni_elementai = []\n",
    "    for arg in args:\n",
    "        if arg > skaicius:\n",
    "            didesni_elementai.append(arg)\n",
    "    return didesni_elementai\n",
    "\n",
    "print(didesni_uz(3, 1, 2, 3, 4, 5))  # [4, 5]\n",
    "print(didesni_uz(10, 1, 2, 3, 4, 5))  # []"
   ]
  },
  {
   "cell_type": "markdown",
   "metadata": {},
   "source": [
    "!!!Esminės kodo eilutės yra 4 ir 5. 4 eilutėj nurodoma, kad jei kintamasis didesnis už skaičių, tada jis įtraukiamas į kintamojo \"didesni_elementai\" sąrašą naudojant metodą append!!!"
   ]
  },
  {
   "cell_type": "markdown",
   "metadata": {},
   "source": [
    "Funkcija, kuri `grąžina` kiekvieno `*args` elemento ilgį kaip sąrašą:"
   ]
  },
  {
   "cell_type": "code",
   "execution_count": 9,
   "metadata": {},
   "outputs": [
    {
     "name": "stdout",
     "output_type": "stream",
     "text": [
      "[5, 7]\n",
      "[3, 4, 2]\n"
     ]
    }
   ],
   "source": [
    "def eiluciu_ilgiai(*args):\n",
    "    ilgiai = []\n",
    "    for arg in args:\n",
    "        ilgis = len(str(arg))\n",
    "        ilgiai.append(ilgis)\n",
    "    return ilgiai\n",
    "\n",
    "print(eiluciu_ilgiai(\"Labas\", \"Pasauli\"))  # [5, 7]\n",
    "print(eiluciu_ilgiai(123, 4567, 89))  # [3, 4, 2]"
   ]
  },
  {
   "cell_type": "markdown",
   "metadata": {},
   "source": [
    "!!!4-5 kodo eilutės: 4 eilutėje kintamajam ilgis naudojant metodą len ir nurodant, kad vertinti kaip teksto eilutę str, suskaičiuojami simboliai. 5 eilutėje nauji duomenys pridedam i kintamajam ilgis į sąrašą."
   ]
  },
  {
   "cell_type": "markdown",
   "metadata": {},
   "source": [
    "# `Greita užduotis 1: *args Praktika`\n",
    "\n",
    "1. Sukurkite Python funkciją, pavadinimu `calculate_total` kuri priima bet kokius skaičių argumentus, kurie atstovauja prekių kainoms.\n",
    "```python\n",
    "# Kainų pavyzdys\n",
    "item_prices = [10.99, 5.49, 7.25, 3.99]\n",
    "```\n",
    "2. Apskaičiuokite ir grąžinkite visų prekių bendrą kainų `sumą`."
   ]
  },
  {
   "cell_type": "code",
   "execution_count": 20,
   "metadata": {},
   "outputs": [
    {
     "name": "stdout",
     "output_type": "stream",
     "text": [
      "Suma viso: 27.72 Eur\n"
     ]
    }
   ],
   "source": [
    "def kainu_skaiciavimas(*args):\n",
    "    kainu_suma = 0\n",
    "    for kainos in args:\n",
    "        kainu_suma += kainos\n",
    "    return kainu_suma\n",
    "\n",
    "Suma_viso = kainu_skaiciavimas(10.99, 5.49, 7.25, 3.99)\n",
    "print(f\"Suma viso: {Suma_viso:.2f} Eur\")"
   ]
  },
  {
   "cell_type": "markdown",
   "metadata": {},
   "source": [
    "### Užduoties Nr. 1 atsakymas (trumpesnis kodas naudojant sum metodą)"
   ]
  },
  {
   "cell_type": "code",
   "execution_count": 21,
   "metadata": {},
   "outputs": [
    {
     "name": "stdout",
     "output_type": "stream",
     "text": [
      "Total Price: $27.72\n"
     ]
    }
   ],
   "source": [
    "def calculate_total(*args):\n",
    "    total = sum(args)\n",
    "    return total\n",
    "\n",
    "# Example usage:\n",
    "item_prices = [10.99, 5.49, 7.25, 3.99]\n",
    "\n",
    "total_price = calculate_total(*item_prices)\n",
    "print(f\"Total Price: ${total_price:.2f}\")"
   ]
  },
  {
   "cell_type": "markdown",
   "metadata": {},
   "source": [
    "## `**kwargs`\n",
    "\n",
    "`**kwargs` yra dar vienas specialus Python sintaksės elementas, leidžiantis perduoti „rakto ir reikšmės“ rinkinį funkcijai kaip žodyną.\n",
    "\n",
    "**Pavyzdys**:"
   ]
  },
  {
   "cell_type": "code",
   "execution_count": 22,
   "metadata": {},
   "outputs": [
    {
     "name": "stdout",
     "output_type": "stream",
     "text": [
      "vardas: Jonas\n",
      "amžius: 30\n",
      "miestas: Londonas\n"
     ]
    }
   ],
   "source": [
    "def spausdinti_kwargs(**kwargs):\n",
    "    for raktas, reikšmė in kwargs.items():\n",
    "        print(f\"{raktas}: {reikšmė}\")\n",
    "\n",
    "spausdinti_kwargs(vardas=\"Jonas\", amžius=30, miestas=\"Londonas\")"
   ]
  },
  {
   "cell_type": "markdown",
   "metadata": {},
   "source": [
    "!!! Su kwargs sukuriamas ne sąrašas ar tuple, o žodynas. 2 kodo eilutėje nurodomos du kintamieji tai raktas ir reikšmė ir naudojant items metodą grąžina atsakymą, kuriame yra visi žodyno raktai ir reikšmės."
   ]
  },
  {
   "cell_type": "markdown",
   "metadata": {},
   "source": [
    "Funkcija pavadinimu \"`skaičiuoti`\", atspausdina `**products` elementų sąrašą ir susumuoja jų kainas. Taip pat demonstruojama, kad `**kwargs` gali būti pavadintas pagal jūsų pageidavimus."
   ]
  },
  {
   "cell_type": "code",
   "execution_count": 23,
   "metadata": {},
   "outputs": [
    {
     "name": "stdout",
     "output_type": "stream",
     "text": [
      "pienukas: 2.00€\n",
      "miltai: 1.00€\n",
      "kiaušiniai: 3.00€\n",
      "Iš viso: 6.00€\n"
     ]
    }
   ],
   "source": [
    "def skaiciuoti(**products):\n",
    "    total = 0\n",
    "    for produktas, kaina in products.items():\n",
    "        total += kaina\n",
    "        print(f\"{produktas}: {kaina:.2f}€\")\n",
    "    print(f\"Iš viso: {total:.2f}€\")\n",
    "\n",
    "skaiciuoti(pienukas=2, miltai=1, kiaušiniai=3)"
   ]
  },
  {
   "cell_type": "markdown",
   "metadata": {},
   "source": [
    "# `Greita užduotis 2: **kwargs, Kontaktinės informacijos spausdinimas`\n",
    "\n",
    "1. Parašykite Python funkciją pavadinimu `spausdinti_kontaktine_info`, kuri priima tris raktais žymimus argumentus: `vardas`, `el. paštas` ir `telefonas`. \n",
    "- Ši funkcija turi atspausdinti kiekvieną informacijos dalį atskiruose eilutėse.\n",
    "```python\n",
    "# rezultato pavyzdys:\n",
    "vardas: Jonas\n",
    "el. paštas: mano@info.lt\n",
    "telefonas: +370 1231234\n",
    "```"
   ]
  },
  {
   "cell_type": "code",
   "execution_count": 28,
   "metadata": {},
   "outputs": [
    {
     "name": "stdout",
     "output_type": "stream",
     "text": [
      "Vardas: Keenan Evans\n",
      "El.pastas: k.evans@zalgiris.lt\n",
      "Tel: +37060011111\n"
     ]
    }
   ],
   "source": [
    "def spausdinti_kontaktine_info(**kwargs):\n",
    "    if 'Vardas' in kwargs:\n",
    "        print(f\"Vardas: {kwargs['Vardas']}\")\n",
    "    if 'el.pastas' in kwargs:\n",
    "        print(f\"El.pastas: {kwargs['el.pastas']}\")\n",
    "    if 'telefonas' in kwargs:\n",
    "        print(f\"Tel: {kwargs['telefonas']}\")\n",
    "\n",
    "# Example usage:\n",
    "kontaktine_informacija = {\n",
    "    'graziausia_spalva' : 'žalia',\n",
    "    'Vardas': 'Keenan Evans',\n",
    "    'el.pastas': 'k.evans@zalgiris.lt',\n",
    "    'telefonas': '+37060011111',\n",
    "    'batu_dydis': '46'\n",
    "}\n",
    "\n",
    "spausdinti_kontaktine_info(**kontaktine_informacija)"
   ]
  },
  {
   "cell_type": "markdown",
   "metadata": {},
   "source": [
    "!!!Remiantis sukurta funkcija grąžinami tik ta informacija, kuri yra joje nurodoma, o visa kita informacija nėra grąžinama."
   ]
  },
  {
   "cell_type": "markdown",
   "metadata": {},
   "source": [
    "# `*args kartu su **kwargs`\n",
    "Kai kuriose situacijose gali prireikti funkcijos, kuri priima tiek pozicinius argumentus, tiek argumentus, kurie nėra apibrėžti funkcijos deklaracijoje. Tokias funkcijas galima kurti naudojant `*args` ir `**kwargs` kartu su įprastais argumentais.\n",
    "\n",
    "**Pavyzdys**:"
   ]
  },
  {
   "cell_type": "code",
   "execution_count": 34,
   "metadata": {},
   "outputs": [
    {
     "name": "stdout",
     "output_type": "stream",
     "text": [
      "Vardas: linksmas\n",
      "miestas: Londonas\n",
      "amžius: 30\n",
      "draugiškas\n",
      "drąsus\n"
     ]
    }
   ],
   "source": [
    "def spausdinti_argumentus(vardas, *args, **kwargs):\n",
    "    print(f\"Vardas: {vardas}\")\n",
    "    for raktas, reikšmė in kwargs.items():\n",
    "        print(f\"{raktas}: {reikšmė}\")\n",
    "    for arg in args:\n",
    "        print(arg)\n",
    "\n",
    "spausdinti_argumentus(\"linksmas\", \"draugiškas\", \"drąsus\", miestas=\"Londonas\", amžius=30)"
   ]
  },
  {
   "cell_type": "markdown",
   "metadata": {},
   "source": [
    "!!! Atsakymą grąžina pagal funkcijos eiliškumą, šiuo konkrečiu atveju pirmiausia kwargs, o po to arg., bet jei eiliškumą sukeistume, pirmiausia išmestų sąrašo reikšmes. Taip pat šiuo atveju pirma nurodyta reikšmė bus priskirta vardui!!! "
   ]
  },
  {
   "cell_type": "markdown",
   "metadata": {},
   "source": [
    "# `Greita užduotis 3: Sujungti *args ir **kwargs`\n",
    "\n",
    "1. Parašykite Python funkciją pavadinimu `sujungti_sarasus`, kuri priima bet kokį skaičių pozicinių argumentų (`*args`) ir \"raktai-reikšmės\" porų (`**kwargs`). \n",
    "- Funkcija turi sujungti šiuos duomenis į vieną sąrašą ir jį grąžinti.\n",
    "\n",
    "```python\n",
    "# Rezultato pavyzdys:\n",
    "[1, 2, 3, ('vardas', 'Jonas'), ('amžius', 25), ('miestas', 'Vilnius')]\n",
    "```"
   ]
  },
  {
   "cell_type": "code",
   "execution_count": 51,
   "metadata": {},
   "outputs": [
    {
     "data": {
      "text/plain": [
       "[1, 2, 3, ('vardas', 'Jonas'), ('amžius', 25), ('miestas', 'Vilnius')]"
      ]
     },
     "execution_count": 51,
     "metadata": {},
     "output_type": "execute_result"
    }
   ],
   "source": [
    "def sujungti_sarasus(*args, **kwargs):\n",
    "    sujungti = list(args) + list(kwargs.items())\n",
    "    return sujungti\n",
    "\n",
    "sujungti_sarasus(1, 2, 3, vardas='Jonas', amžius=25, miestas='Vilnius')\n",
    "\n"
   ]
  },
  {
   "cell_type": "code",
   "execution_count": 52,
   "metadata": {},
   "outputs": [
    {
     "data": {
      "text/plain": [
       "['a', 'b', 'c', ('vardas', 'Petras'), ('amzius', 38), ('miestas', 'Jonava')]"
      ]
     },
     "execution_count": 52,
     "metadata": {},
     "output_type": "execute_result"
    }
   ],
   "source": [
    "def sujungti_sarasus(*args, **kwargs):\n",
    "    sujungti = list(args)\n",
    "    for raktas, reiksme in kwargs.items():\n",
    "        sujungti.append((raktas, reiksme))\n",
    "    return sujungti\n",
    "    \n",
    "sujungti_sarasus('a', 'b', 'c', vardas='Petras', amzius=38, miestas='Jonava')  \n",
    "    "
   ]
  },
  {
   "cell_type": "markdown",
   "metadata": {},
   "source": [
    "# `Papildoma užduotis: Argumentų filtravimas`\n",
    "\n",
    "Sukurkite Python funkciją pavadinimu `filtruoti_argumentus`, kuri priima bet kokį skaičių pozicinių argumentų (`*args`) ir \"raktai-reikšmės\" porų (`**kwargs`). \n",
    "\n",
    "Funkcija turi atlikti šiuos veiksmus:\n",
    "\n",
    "1. `Filtruoti` pozicinius argumentus (*args), paliekant tik tuos, kurie yra `skaičiai` (integers).\n",
    "1. `Filtruoti` raktus ir reikšmes (**kwargs), paliekant tik tuos, kurių raktas prasideda raidė '`a`' ir reikšmė yra stringas.\n",
    "1. `Grąžinkite` du sąrašus: viename bus likę poziciniai argumentai (`skaičiai`), o kitame `raktai-reikšmės` poros iš **kwargs.\n",
    "\n",
    "```python\n",
    "# Jusu funkcijos kvietimas\n",
    "rezultatai = filtruoti_argumentus(1, 'Jonas', 3, 5, amžius='25', miestas='Vilnius', adresas='Kaunas')\n",
    "# Atspausdinimas\n",
    "print(rezultatai)\n",
    "# Rezultato pavyzdys:\n",
    "([1, 3, 5], {'amžius': '25', 'adresas': 'Vilnius'})\n",
    "```\n",
    "\n",
    "Pastaba: Patikrinkite, ar poziciniuose argumentuose yra skaičių tipų, o **kwargs filtravimas turi atsižvelgti į raktus ir reikšmes pagal sąlygas."
   ]
  },
  {
   "cell_type": "code",
   "execution_count": 57,
   "metadata": {},
   "outputs": [
    {
     "name": "stdout",
     "output_type": "stream",
     "text": [
      "([1, 3, 5], {'amzius': '25', 'adresas': 'Kaunas'})\n"
     ]
    }
   ],
   "source": [
    "def filtruoti_argumentus(*args, **kwargs):\n",
    "    skaiciai = []\n",
    "    for skaicius in args:\n",
    "        if type(skaicius) == int:\n",
    "            skaiciai.append(skaicius)\n",
    "    kvargu_filtras = {}\n",
    "    for raktas, reiksme in kwargs.items():\n",
    "        if raktas.startswith('a') and type(reiksme) == str:\n",
    "            kvargu_filtras[raktas] = reiksme\n",
    "    return skaiciai, kvargu_filtras\n",
    "\n",
    "rezultatai = filtruoti_argumentus(1, 'Jonas', 3, 5, amzius='25', miestas='Vilnius', adresas='Kaunas')\n",
    "print(rezultatai)"
   ]
  },
  {
   "cell_type": "markdown",
   "metadata": {},
   "source": [
    ">Taigi, `*args` leidžia perduoti neribotą kiekį pozicinių argumentų, o `**kwargs` leidžia perduoti neribotą kiekį rakšažodinių argumentų, susidedančių iš raktų ir reikšmių. Galima kombinuoti šiuos elementus su įprastais argumentais funkcijose, kad būtų gautas didesnis funkcionalumas ir lankstumas."
   ]
  }
 ],
 "metadata": {
  "kernelspec": {
   "display_name": "venv",
   "language": "python",
   "name": "python3"
  },
  "language_info": {
   "codemirror_mode": {
    "name": "ipython",
    "version": 3
   },
   "file_extension": ".py",
   "mimetype": "text/x-python",
   "name": "python",
   "nbconvert_exporter": "python",
   "pygments_lexer": "ipython3",
   "version": "3.11.7"
  }
 },
 "nbformat": 4,
 "nbformat_minor": 2
}
