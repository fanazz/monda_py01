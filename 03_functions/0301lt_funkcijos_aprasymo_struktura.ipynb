{
 "cells": [
  {
   "cell_type": "markdown",
   "metadata": {},
   "source": [
    "# Funkcijos aprašymo struktūra\n",
    "\n",
    "Python programavimo kalboje funkcijos aprašymo struktūra yra pagrindinė dalis, leidžianti mums kurti ir naudoti funkcijas. \n",
    "Funkcijos deklaracija prasideda žodžiu `def`, kurį seka funkcijos `pavadinimas` ir `argumentai`, esantys skliaustuose.\n",
    "Funkcijos veiksmai yra aprašomi įrėmintame bloke po funkcijos apibrėžimu. \n",
    "\n",
    "Kad būtų aiškiau, štai kelios svarbios dalys:\n",
    "\n",
    "- Žodis `def` praneša Python, kad mes aprašome funkciją.\n",
    "- `function_name` tai yra pavadinimas, kurį mes pasirenkame savo funkcijai. Jis turi atspindėti funkcijos tikslą.\n",
    "- `arguments` yra reikšmės, kurias mes paduosime funkcijai kaip įvestį. Tai kaip kintamieji, kurie bus naudojami funkcijos viduje.\n",
    "\n",
    "Norint suprasti, kaip tai veikia, pažiūrėkime į šį pavyzdį:"
   ]
  },
  {
   "cell_type": "code",
   "execution_count": 1,
   "metadata": {},
   "outputs": [
    {
     "name": "stdout",
     "output_type": "stream",
     "text": [
      "Sveiki, Jonas!\n"
     ]
    }
   ],
   "source": [
    "def sveikinti(vardas):\n",
    "    \"\"\"Ši funkcija sveikina asmenį, perduotą kaip argumentą.\"\"\"\n",
    "    print(f\"Sveiki, {vardas}!\")\n",
    "\n",
    "# Pavyzdžio Panaudojimas\n",
    "sveikinti(\"Jonas\")\n",
    "sveikinti(\"Studentas\")"
   ]
  },
  {
   "cell_type": "markdown",
   "metadata": {},
   "source": [
    "Šiame pavyzdyje `sveikinti` yra funkcijos pavadinimas, ji priima vieną argumentą (`vardas`), ir pasveikina asmenį su nurodytu vardu. \n",
    "\n",
    "Tada, funkcija `sveikinti` yra iškviesta su argumentu \"Jonas\", ir rezultatas yra atspausdinamas į konsolę."
   ]
  },
  {
   "cell_type": "markdown",
   "metadata": {},
   "source": [
    "Pavyzdys, kaip apibrėžti ir iškviesti funkciją, kuri priima du argumentus ir juos spausdina į konsolę."
   ]
  },
  {
   "cell_type": "code",
   "execution_count": 2,
   "metadata": {},
   "outputs": [
    {
     "name": "stdout",
     "output_type": "stream",
     "text": [
      "Vardas: Jonas\n",
      "Amžius: 25\n"
     ]
    }
   ],
   "source": [
    "def asmens_informacija(vardas, amžius):\n",
    "    \"\"\"Ši funkcija priima du argumentus ir juos spausdina į konsolę.\"\"\"\n",
    "    print(f\"Vardas: {vardas}\")\n",
    "    print(f\"Amžius: {amžius}\")\n",
    "\n",
    "asmens_informacija(\"Jonas\", 25)"
   ]
  },
  {
   "cell_type": "markdown",
   "metadata": {},
   "source": [
    "Šiame pavyzdyje spausdinti_argumentus funkcija apibrėžta priimti du argumentus (vardą ir amžių) ir juos spausdina į konsolę.\n",
    "\n",
    "Tada funkcija yra iškviesta su argumentais \"Jonas\" ir 25."
   ]
  },
  {
   "cell_type": "markdown",
   "metadata": {},
   "source": [
    "### Greitas uždavinys 1\n",
    "\n",
    "Aprašykite funkciją ploto apskaičiavimui, kuri priima du parametrus, ilgį ir plotį, ir apskaičiuoja ir atspausdina stačiakampio plotą.\n"
   ]
  },
  {
   "cell_type": "code",
   "execution_count": 16,
   "metadata": {},
   "outputs": [
    {
     "name": "stdout",
     "output_type": "stream",
     "text": [
      "Pagal duotus ilgio ir pločio parametrus, plotas yra: 1210 nežinomų kvadratinių vienetų\n"
     ]
    }
   ],
   "source": [
    "def apskaičiuoti_plotą(ilgis, plotis):\n",
    "    \"\"\"Ši funkcija apskaičiuoja plotą\"\"\"\n",
    "    plotas = ilgis * plotis\n",
    "    print(f\"Pagal duotus ilgio ir pločio parametrus, plotas yra: {plotas} nežinomų kvadratinių vienetų\")\n",
    "apskaičiuoti_plotą(22, 55)\n",
    "    "
   ]
  },
  {
   "cell_type": "markdown",
   "metadata": {},
   "source": [
    "---\n",
    "\n",
    "## `if`, `elif`, `else` naudojimas Funkcijoje\n",
    "\n",
    "Galite naudoti sąlygas, tokias kaip `if`, `elif` arba `else` ir taip funkcijoje vykdyti skirtingus veiksmus pagal konkrečias sąlygas.\n",
    "\n",
    "**Štai pavyzdys**:"
   ]
  },
  {
   "cell_type": "code",
   "execution_count": 12,
   "metadata": {},
   "outputs": [],
   "source": [
    "def ivertinti_pazymi(balas):\n",
    "    \"\"\"Ši funkcija įvertina ir atspausdina pažymį pagal pateiktą balą.\"\"\"\n",
    "    if balas >= 90:\n",
    "        print(\"A: Puiku\")\n",
    "    elif 80 <= balas < 90:\n",
    "        print(\"B: Geras\")\n",
    "    elif 70 <= balas < 80:\n",
    "        print(\"C: Patenkinamas\")\n",
    "    elif 60 <= balas < 70:\n",
    "        print(\"D: Reikia Pataisymų\")\n",
    "    else:\n",
    "        print(\"F: Nepavyko\")"
   ]
  },
  {
   "cell_type": "code",
   "execution_count": 18,
   "metadata": {},
   "outputs": [
    {
     "name": "stdout",
     "output_type": "stream",
     "text": [
      "A: Puiku\n"
     ]
    }
   ],
   "source": [
    "# Pavyzdžio panaudojimas\n",
    "ivertinti_pazymi(98)"
   ]
  },
  {
   "cell_type": "markdown",
   "metadata": {},
   "source": [
    "Šiame pavyzdyje `ivertinti_pazymi` funkcija priima balą kaip `argumentą` ir naudoja `if`, `elif` ir `else` pareiškas, kad nustatytų ir spausdintų atitinkamą pažymį pagal pateiktą balą. \n",
    "\n",
    "Tada funkcija yra iškviesta su argumentu `75`."
   ]
  },
  {
   "cell_type": "markdown",
   "metadata": {},
   "source": [
    "**Antrasis pavyzdys**:"
   ]
  },
  {
   "cell_type": "code",
   "execution_count": 19,
   "metadata": {},
   "outputs": [],
   "source": [
    "def ar_lyginis_ar_nelyginis(skaicius):\n",
    "    \"\"\"Ši funkcija nustato, ar duotas skaičius yra lyginis arba nelyginis.\"\"\"\n",
    "    if skaicius % 2 == 0:\n",
    "        rezultatas = \"lyginis\"        \n",
    "    else:\n",
    "        rezultatas = \"nelyginis\"\n",
    "    print(f\"Skaičius {skaicius} yra {rezultatas}.\")"
   ]
  },
  {
   "cell_type": "code",
   "execution_count": 21,
   "metadata": {},
   "outputs": [
    {
     "name": "stdout",
     "output_type": "stream",
     "text": [
      "Skaičius 77 yra nelyginis.\n",
      "Skaičius 56 yra lyginis.\n"
     ]
    }
   ],
   "source": [
    "# Pavyzdžio panaudojimas\n",
    "ar_lyginis_ar_nelyginis(77)\n",
    "ar_lyginis_ar_nelyginis(56)"
   ]
  },
  {
   "cell_type": "markdown",
   "metadata": {},
   "source": [
    "Šiame pavyzdyje `ar_lyginis_ar_nelyginis` funkcija priima skaičių kaip `argumentą` ir naudoja sąlyginę išraišką (`if-else`), kad patikrintų, ar skaičius yra `lyginis` arba `nelyginis`. \n",
    "\n",
    "Tada rezultatas spausdinamas į konsolę. Funkcija yra iškviesta su argumentu 69, ir 42."
   ]
  },
  {
   "cell_type": "markdown",
   "metadata": {},
   "source": [
    "Trumpai tariant, Python funkcija apibrėžiama naudojant `def` pareiškimą, po kurio seka funkcijos `pavadinimas` ir jos `argumentai`. Funkcijoje galite naudoti sąlygas, kad atliktumėte skirtingus veiksmus pagal sąlygas, ir funkcijos gali priimti bet kokį kiekį argumentų arba visai jų neturėti."
   ]
  },
  {
   "cell_type": "markdown",
   "metadata": {},
   "source": [
    "### Greitas uždavinys 2\n",
    "\n",
    "Parašykite funkciją, kuri paima skaičių kaip argumentą ir patikrina ar jis yra lyginis ar nelyginis. Rezultatas turi būti išspausdintas."
   ]
  },
  {
   "cell_type": "code",
   "execution_count": 26,
   "metadata": {},
   "outputs": [
    {
     "name": "stdout",
     "output_type": "stream",
     "text": [
      "Skaicius 17 yra nelyginis.\n"
     ]
    }
   ],
   "source": [
    "def skaicius_lyginis_ar_nelyginis(skaičius):\n",
    "    if skaičius % 2 == 0:\n",
    "        rezultatas = 'lyginis'\n",
    "    else:\n",
    "        rezultatas = 'nelyginis'\n",
    "    print(f'Skaicius {skaičius} yra {rezultatas}.')\n",
    "\n",
    "skaicius_lyginis_ar_nelyginis(17)"
   ]
  },
  {
   "cell_type": "markdown",
   "metadata": {},
   "source": [
    "### Greitas uždavinys 3\n",
    "\n",
    "Patikrinkite, ar skaičius yra teigiamas\n",
    "\n",
    "Parašykite funkciją, kuri priima kintamąji kaip argumenta, ir jeigu tai yra skaičius, patikrina ar jis teigiamas.\n",
    "Funkcijos rezultatai ir klaidos turi būti tikrinami ir spausdinami."
   ]
  },
  {
   "cell_type": "code",
   "execution_count": 52,
   "metadata": {},
   "outputs": [
    {
     "name": "stdout",
     "output_type": "stream",
     "text": [
      "bananas nėra skaičius\n",
      "Skaičius 25 yra teigiamas.\n",
      "Skaičius -33 yra neigiamas.\n"
     ]
    }
   ],
   "source": [
    "def Ar_skaičius_teigiamas(skaicius):\n",
    "    if type(skaicius) == int or type(skaicius) == float:\n",
    "        if skaicius > 0:\n",
    "            rezultatas = 'teigiamas'\n",
    "        else:\n",
    "            rezultatas = 'neigiamas'\n",
    "        print(f'Skaičius {skaicius} yra {rezultatas}.')\n",
    "    else:\n",
    "        print(f'{skaicius} nėra skaičius')\n",
    "\n",
    "Ar_skaičius_teigiamas('bananas')\n",
    "Ar_skaičius_teigiamas(25)\n",
    "Ar_skaičius_teigiamas(-33)\n"
   ]
  },
  {
   "cell_type": "markdown",
   "metadata": {},
   "source": [
    "### Greitas uždavinys 3\n",
    "\n",
    "Parašykite funkciją, kuri sulygina du skaičius, ir parašo jų tarpusavio santykį (lygūs, pirmas didesnis už antrą, pirmas mažesnis už antrą, ir pan.)"
   ]
  },
  {
   "cell_type": "code",
   "execution_count": 1,
   "metadata": {},
   "outputs": [
    {
     "name": "stdout",
     "output_type": "stream",
     "text": [
      "10 yra mažesnis už 11\n",
      "77 yra didesnis už 33\n",
      "13 lygu 13\n"
     ]
    }
   ],
   "source": [
    "def Skaiciu_lyginimas(skaicius1, skaicius2):\n",
    "    if skaicius1 > skaicius2:\n",
    "        print(skaicius1, \"yra didesnis už\", skaicius2)\n",
    "    elif skaicius1 == skaicius2:\n",
    "        print(skaicius1, \"lygu\", skaicius2)\n",
    "    else:\n",
    "        print(skaicius1, \"yra mažesnis už\", skaicius2)\n",
    "\n",
    "Skaiciu_lyginimas(10, 11)\n",
    "Skaiciu_lyginimas(77, 33)\n",
    "Skaiciu_lyginimas(13, 13)"
   ]
  }
 ],
 "metadata": {
  "kernelspec": {
   "display_name": "venv",
   "language": "python",
   "name": "python3"
  },
  "language_info": {
   "codemirror_mode": {
    "name": "ipython",
    "version": 3
   },
   "file_extension": ".py",
   "mimetype": "text/x-python",
   "name": "python",
   "nbconvert_exporter": "python",
   "pygments_lexer": "ipython3",
   "version": "3.11.7"
  }
 },
 "nbformat": 4,
 "nbformat_minor": 2
}
