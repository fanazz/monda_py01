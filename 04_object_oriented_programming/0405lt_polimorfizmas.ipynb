{
 "cells": [
  {
   "cell_type": "markdown",
   "metadata": {},
   "source": [
    "# Polimorfizmas\n",
    "Polimorfizmas yra vienas iš objektiškai orientuoto programavimo principų. Jis suteikia galimybę naudoti tą pačią funkciją ar metodą su įvairių tipų objektais. Tai reiškia, kad skirtingų tipų ar skirtingai įgyvendinti objektai gali būti naudojami vienodai.\n",
    "\n",
    "Polimorfizmas prisideda prie programos lankstumo, naudojimo patogumo ir kodų aiškumo, nes programuotojui lengviau pritaikyti kodą ateičiai galimiems pakeitimams."
   ]
  },
  {
   "cell_type": "markdown",
   "metadata": {},
   "source": [
    "--- \n",
    "## Metodo perrašymas\n",
    "Metodo perrašymas yra galimybė perrašyti tėvinių klasės metodą paveldėtoje klasėje ir suteikti jam naują implementaciją. Tai yra galima dėl to, kad paveldėtoje klasėje jau yra aprašytas tėvinės klasės metodas su tokiu pat pavadinimu.\n",
    "\n",
    "Metodų perrašymas leidžia mums kurti specializuotas klases, kurios gali modifikuoti ar papildyti tėvinės klasės funkcionalumą, nekeičiant paties tėvinės klasės kodo. Be to, metodas paveldėtoje klasėje gali turėti papildomus argumentus, kurių gali nebūti tėvinėje klasėje."
   ]
  },
  {
   "cell_type": "code",
   "execution_count": 1,
   "metadata": {},
   "outputs": [],
   "source": [
    "class Automobilis:\n",
    "    def __init__(self, marke, modelis, spalva='bespalvis'):\n",
    "        self.marke = marke\n",
    "        self.modelis = modelis\n",
    "        self.spalva = spalva\n",
    "\n",
    "    def greitis(self):\n",
    "        print('Šis automobilis važiuoja leistinu greičiu')\n",
    "\n",
    "\n",
    "class SportinisAutomobilis(Automobilis):\n",
    "    def greitis(self):\n",
    "        print('Šis automobilis gali važiuoti iki 300 km/h')\n",
    "\n",
    "\n",
    "class IstorinisAutomobilis(Automobilis):\n",
    "    def greitis(self):\n",
    "        print('Šis automobilis gali važiuoti iki 100 km/h')\n",
    "\n",
    "\n",
    "def informacija(automobilis):\n",
    "    automobilis.greitis()"
   ]
  },
  {
   "cell_type": "markdown",
   "metadata": {},
   "source": [
    "Iškvietę sukurtą funkciją su skirtingoms klasės priklausančiais objektais, gausime skirtingą rezultatą:"
   ]
  },
  {
   "cell_type": "code",
   "execution_count": 2,
   "metadata": {},
   "outputs": [
    {
     "name": "stdout",
     "output_type": "stream",
     "text": [
      "Šis automobilis gali važiuoti iki 300 km/h\n",
      "Šis automobilis gali važiuoti iki 100 km/h\n",
      "Šis automobilis važiuoja leistinu greičiu\n"
     ]
    }
   ],
   "source": [
    "ferrari = SportinisAutomobilis('Ferrari', '458 Italia')\n",
    "ford = IstorinisAutomobilis('Ford', 'Model T')\n",
    "audi = Automobilis(\"Audi\", \"A4\")\n",
    "\n",
    "informacija(ferrari) # Šis automobilis gali važiuoti iki 300 km/h\n",
    "informacija(ford) # Šis automobilis gali važiuoti iki 100 km/h\n",
    "informacija(audi) # Šis automobilis važiuoja leistinu greičiu"
   ]
  },
  {
   "cell_type": "markdown",
   "metadata": {},
   "source": [
    "### Užduotis 1: Metodo Perrašymas\n",
    "\n",
    "1. Sukurkite Python programą, kuri apibrėžtų bazinę klasę `Animal` su metodu `make_sound()`.\n",
    "1. Tada sukurkite dvi išvestines klases, `Dog` ir `Cat`, kurios paveldėtų iš `Animal` klasės.\n",
    "1. Perrašykite metodą `make_sound()` abiejose išvestinėse klasėse taip, kad šuo lotų ir katė miauktų, atitinkamai.\n",
    "1. Galiausiai, sukurkite `Dog` ir `Cat` klasių objektus ir iškvieskite jų metodus `make_sound()`."
   ]
  },
  {
   "cell_type": "code",
   "execution_count": 3,
   "metadata": {},
   "outputs": [
    {
     "name": "stdout",
     "output_type": "stream",
     "text": [
      "Šuo loja\n",
      "Katė miauksi\n",
      "Gyvūnas leidžia garsus\n"
     ]
    }
   ],
   "source": [
    "class Gyvunas:\n",
    "    def make_sound(self):\n",
    "        print(\"Gyvūnas leidžia garsus\")\n",
    "\n",
    "class Suo(Gyvunas):\n",
    "    def make_sound(self):\n",
    "        print(\"Šuo loja\")\n",
    "\n",
    "\n",
    "class Kate(Gyvunas):\n",
    "    def make_sound(self):\n",
    "        print(\"Katė miauksi\")\n",
    "\n",
    "suo = Suo()\n",
    "kate = Kate()\n",
    "briedis = Gyvunas()\n",
    "\n",
    "suo.make_sound()  \n",
    "kate.make_sound() \n",
    "briedis.make_sound()"
   ]
  },
  {
   "cell_type": "markdown",
   "metadata": {},
   "source": [
    "---\n",
    "## Paveldėto metodo iškvietimas\n",
    "Kai norite panaudoti paveldėtus tėvinės klasės metodus ir savybes, tačiau tuo pat metu norite pakeisti jų veikimą naudojama `super()` funkcija. Tai leidžia mums išlaikyti tėvinės klasės funkcionalumą, tuo pat metu pridedant savo papildomą funkcionalumą. Pavyzdys.:"
   ]
  },
  {
   "cell_type": "code",
   "execution_count": 7,
   "metadata": {},
   "outputs": [],
   "source": [
    "class TransportoPriemone:\n",
    "    marke = ''\n",
    "    modelis = ''\n",
    "\n",
    "    def greitis(self):\n",
    "        print('juda')\n",
    "\n",
    "\n",
    "class Automobilis(TransportoPriemone):\n",
    "    def __init__(self, marke, modelis):\n",
    "        self.marke = marke\n",
    "        self.modelis = modelis\n",
    "\n",
    "    def greitis(self):\n",
    "        print('Šis automobilis važiuoja leistinu greičiu')\n",
    "        super().greitis()\n",
    "\n",
    "    def car_info(self):\n",
    "        print(self.marke, self.modelis)\n",
    "\n",
    "\n",
    "class SportinisAutomobilis(Automobilis):\n",
    "    def greitis(self):\n",
    "        super().greitis()\n",
    "        print('Šis automobilis gali važiuoti iki 300 km/h')\n",
    "\n",
    "    def car_info(self):\n",
    "        super().car_info()\n",
    "        super().greitis()\n",
    "        print(\"su blizguciais\")\n"
   ]
  },
  {
   "cell_type": "markdown",
   "metadata": {},
   "source": [
    "Iškvietę sukurtą funkciją su objektu, kuris paveldi tėvinės klasės metodą, gausime toki rezultatą:"
   ]
  },
  {
   "cell_type": "code",
   "execution_count": 8,
   "metadata": {},
   "outputs": [
    {
     "name": "stdout",
     "output_type": "stream",
     "text": [
      "Šis automobilis važiuoja leistinu greičiu\n",
      "juda\n",
      "Šis automobilis gali važiuoti iki 300 km/h\n"
     ]
    }
   ],
   "source": [
    "ferrari = SportinisAutomobilis('Ferrari', '458 Italia')\n",
    "\n",
    "ferrari.greitis()   # Šis automobilis važiuoja leistinu greičiu\n",
    "                    # Šis automobilis gali važiuoti iki 300 km/h\n",
    "\n",
    "# ferrari.car_info()"
   ]
  },
  {
   "cell_type": "markdown",
   "metadata": {},
   "source": [
    "### Antra užduotis: Darbuotojo informacija\n",
    "\n",
    "1. Sukurkite `darbuotojų` klasę su savybėmis `vardas`, `pavarde` ir `atlyginimas`, kuri turėtų metodą atspausdinantį darbuotojo informaciją.\n",
    "1. Sukurkite `administratoriaus` klasę, kuri paveldėtų savybes iš darbuotojo klasės.\n",
    "1. Sukurkite `vadovo` klasę, kuri paveldėtų savybes iš darbuotojo klasės ir turėtų papildomą savybę \"`premija`\" bei metodą, kuris atspausdins papildytą darbuotojo informaciją.\n",
    "1. Sukurkite kelis kiekvienos klasės objektus ir iškvieskite informacijos spausdinimo metodą."
   ]
  },
  {
   "cell_type": "code",
   "execution_count": 10,
   "metadata": {},
   "outputs": [
    {
     "name": "stdout",
     "output_type": "stream",
     "text": [
      "Darbuotojas Keenan Evans uždirba 750000 €\n",
      "Darbuotojas Paulius Jankūnas uždirba 10000 €\n",
      "Darbuotojas Paulius Motiejūnas uždirba 500000 €\n",
      "Vadovo premija: 150000\n"
     ]
    }
   ],
   "source": [
    "class Darbuotojas:\n",
    "    def __init__(self, vardas, pavarde, atlyginimas):\n",
    "        self.vardas = vardas\n",
    "        self.pavarde = pavarde\n",
    "        self.atlyginimas = atlyginimas\n",
    "    \n",
    "    def darbuotojo_info(self):\n",
    "        print(f\"Darbuotojas {self.vardas} {self.pavarde} uždirba {self.atlyginimas} €\")\n",
    "\n",
    "class Administratorius(Darbuotojas):\n",
    "    pass\n",
    "\n",
    "class Vadovas(Darbuotojas):\n",
    "    def __init__(self, vardas, pavarde, atlyginimas, premija):\n",
    "        super().__init__(vardas, pavarde, atlyginimas)\n",
    "        self.premija = premija\n",
    "    \n",
    "    def darbuotojo_info(self):\n",
    "        super().darbuotojo_info()\n",
    "        print(f'Vadovo premija: {self.premija}')\n",
    "\n",
    "darbuotojas_1 = Darbuotojas('Keenan', 'Evans', 750000)\n",
    "darbuotojas_2 = Administratorius('Paulius', 'Jankūnas', 10000)\n",
    "darbuotojas_3 = Vadovas('Paulius', 'Motiejūnas', 500000, 150000)        \n",
    "\n",
    "darbuotojas_1.darbuotojo_info()\n",
    "darbuotojas_2.darbuotojo_info()\n",
    "darbuotojas_3.darbuotojo_info()\n"
   ]
  }
 ],
 "metadata": {
  "kernelspec": {
   "display_name": "venv",
   "language": "python",
   "name": "python3"
  },
  "language_info": {
   "codemirror_mode": {
    "name": "ipython",
    "version": 3
   },
   "file_extension": ".py",
   "mimetype": "text/x-python",
   "name": "python",
   "nbconvert_exporter": "python",
   "pygments_lexer": "ipython3",
   "version": "3.11.7"
  }
 },
 "nbformat": 4,
 "nbformat_minor": 2
}
