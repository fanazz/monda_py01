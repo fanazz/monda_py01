{
 "cells": [
  {
   "cell_type": "markdown",
   "metadata": {},
   "source": [
    "# Inkapsuliacija\n",
    "\n",
    "`Inkapsuliacija` yra objektinio programavimo konceptas, kuris apjungia duomenis ir metodus juos apdorojant į vieną vienetą – klasę. Ji padeda apsaugoti objekto būseną nuo netinkamo prieinamumo ar modifikacijos iš išorės. `Inkapsuliacija` leidžia programuotojams sukurti sąsają, per kurią galima saugiai bendrauti su objekto duomenimis. Tai įgalina duomenų ir metodų paslėpimą, užtikrindama, kad objekto naudojimas būtų atliekamas kaip numatyta. Dėl šios savybės kodo priežiūra tampa lengvesnė ir galima išvengti netikėtų klaidų."
   ]
  },
  {
   "cell_type": "markdown",
   "metadata": {},
   "source": [
    "---\n",
    "\n",
    "## Privatūs Kintamieji\n",
    "\n",
    "`Privatūs kintamieji` yra klasės komponentai, kurie negali būti tiesiogiai prieinami iš klasės išorės. Tai reiškia, kad juos galima pakeisti arba skaityti tik per klasės metodus. Python kalboje, privatūs kintamieji paprastai sukuriami pridedant `du pabrauktukus` prieš kintamojo pavadinimą (pvz., `__spalva`).\n",
    "\n",
    "Pavyzdžiui:"
   ]
  },
  {
   "cell_type": "code",
   "execution_count": 11,
   "metadata": {},
   "outputs": [],
   "source": [
    "class Automobilis:\n",
    "    def __init__(self, marke, modelis, metai=2023, spalva='pilka'):\n",
    "        self.marke = marke\n",
    "        self.modelis = modelis\n",
    "        self.__metai = metai\n",
    "        self.__spalva = spalva\n",
    "\n",
    "    def gauti_metus(self):\n",
    "        return self.__metai\n",
    "\n",
    "    def gauti_spalva(self):\n",
    "        return self.__spalva"
   ]
  },
  {
   "cell_type": "code",
   "execution_count": 12,
   "metadata": {},
   "outputs": [
    {
     "name": "stdout",
     "output_type": "stream",
     "text": [
      "Mercedes\n",
      "C-Class\n",
      "2023\n",
      "pilka\n"
     ]
    }
   ],
   "source": [
    "trecias_automobilis = Automobilis('Mercedes', 'C-Class')\n",
    "\n",
    "print(trecias_automobilis.marke)  # Mercedes\n",
    "print(trecias_automobilis.modelis)  # C-Class\n",
    "print(trecias_automobilis.gauti_metus())  # 2023\n",
    "print(trecias_automobilis.gauti_spalva())  # pilka"
   ]
  },
  {
   "cell_type": "markdown",
   "metadata": {},
   "source": [
    "Tai demonstruoja \n",
    "- `Automobilis` klasės objekto su konkrečiais atributais sukūrimą, \n",
    "- Atributų gavimą naudojant gavimo metodus "
   ]
  },
  {
   "cell_type": "markdown",
   "metadata": {},
   "source": [
    "### Greita užduotis 1: Automobilio Klasės Papildymas\n",
    "\n",
    "Papildyti `Automobilis` klasę naujomis funkcijomis ir savybėmis.\n",
    "\n",
    "### Klasės Metodai ir Savybės\n",
    "\n",
    "- Pridėti privačią savybę `__rida`, kuri saugotų automobilio nuvažiuotus kilometrus. Pradinė `__rida` reikšmė turėtų būti 0.\n",
    "- Sukurti metodą `vaziuoti(kilometrai)`, kuris pridėtų argumente nurodytą kilometrų skaičių prie automobilio ridos ir atspausdintų pranešimą apie tai.\n",
    "- Sukurti metodą `gauti_rida()`, kuris grąžintų automobilio bendrą nuvažiuotų kilometrų skaičių."
   ]
  },
  {
   "cell_type": "code",
   "execution_count": 13,
   "metadata": {},
   "outputs": [
    {
     "name": "stdout",
     "output_type": "stream",
     "text": [
      "Automobilis Audi A4 nuvažiavo 20 km.\n",
      "Bendra Audi A4 rida: 20 km.\n"
     ]
    }
   ],
   "source": [
    "class Automobilis: \n",
    "    def __init__(self, marke, modelis, metai=2023, spalva='pilka'): \n",
    "        self.marke = marke \n",
    "        self.modelis = modelis \n",
    "        self.__metai = metai \n",
    "        self.__spalva = spalva \n",
    "        self.__rida = 0\n",
    "\n",
    "    def gauti_metus(self):\n",
    "        return self.__metai\n",
    "\n",
    "    def gauti_spalva(self):\n",
    "        return self.__spalva\n",
    "\n",
    "    def vaziuoti(self, kilometrai):\n",
    "        self.__rida += kilometrai\n",
    "        print(f\"Automobilis {self.marke} {self.modelis} nuvažiavo {kilometrai} km.\")\n",
    "\n",
    "    def gauti_rida(self):\n",
    "        return self.__rida\n",
    "    \n",
    "ketvirtas_automobilis = Automobilis('Audi', 'A4') \n",
    "ketvirtas_automobilis.vaziuoti(20) \n",
    "print(f\"Bendra {ketvirtas_automobilis.marke} {ketvirtas_automobilis.modelis} rida: {ketvirtas_automobilis.gauti_rida()} km.\")"
   ]
  },
  {
   "cell_type": "markdown",
   "metadata": {},
   "source": [
    "---\n",
    "\n",
    "## Privatūs metodai \n",
    "\n",
    "`Privatūs metodai` yra klasės metodai, kurie taip pat nėra tiesiogiai prieinami iš klasės išorės. Jie dažnai naudojami vidinėje klasės logikoje ir yra skirti tik klasės naudojimui. Python kalboje privatūs metodai taip pat sukuriami pridedant `du pabrauktukus` prieš metodo pavadinimą (pvz., `__pakeisti_spalva()`)."
   ]
  },
  {
   "cell_type": "code",
   "execution_count": 14,
   "metadata": {},
   "outputs": [],
   "source": [
    "class Automobilis:\n",
    "    def __init__(self, marke, modelis, metai=2024, spalva='pilka'):\n",
    "        self.marke = marke\n",
    "        self.modelis = modelis\n",
    "        self.__metai = metai\n",
    "        self.__spalva = spalva\n",
    "\n",
    "    def gauti_metus(self):\n",
    "        return self.__metai\n",
    "\n",
    "    def gauti_spalva(self):\n",
    "        return self.__spalva\n",
    "\n",
    "    def __pakeisti_spalva(self, nauja_spalva):\n",
    "        self.__spalva = nauja_spalva\n",
    "\n",
    "    def perdazyti(self, nauja_spalva):\n",
    "        self.__pakeisti_spalva(nauja_spalva)"
   ]
  },
  {
   "cell_type": "code",
   "execution_count": 15,
   "metadata": {},
   "outputs": [
    {
     "name": "stdout",
     "output_type": "stream",
     "text": [
      "Toyota\n",
      "Corolla\n",
      "2020\n",
      "Raudona\n"
     ]
    }
   ],
   "source": [
    "ketvirtas_automobilis = Automobilis(marke='Toyota', modelis='Corolla', metai=2020)\n",
    "\n",
    "ketvirtas_automobilis.perdazyti('Raudona')\n",
    "\n",
    "print(ketvirtas_automobilis.marke)  # Toyota\n",
    "print(ketvirtas_automobilis.modelis)  # Corolla\n",
    "print(ketvirtas_automobilis.gauti_metus())  # 2020\n",
    "print(ketvirtas_automobilis.gauti_spalva()) # Raudona"
   ]
  },
  {
   "cell_type": "markdown",
   "metadata": {},
   "source": [
    "Tai demonstruoja \n",
    "- `Automobilis` klasės objekto su konkrečiais atributais sukūrimą, \n",
    "- Atributų gavimą naudojant gavimo metodus \n",
    "- `__spalva` atributo atnaujinimą naudojant viešąjį `perdazyti` metodą."
   ]
  },
  {
   "cell_type": "markdown",
   "metadata": {},
   "source": [
    "*Priminimas*: `Inkapsuliacija` yra svarbi, nes ji padeda užtikrinti kodo saugumą, sumažina klaidų tikimybę ir padidina kodo prieinamumo tvarkymą."
   ]
  },
  {
   "cell_type": "markdown",
   "metadata": {},
   "source": [
    "### Greita užduotis 2: Banko Sąskaitos Klasė\n",
    "\n",
    "### Klasės Kintamieji\n",
    "- `sąskaitos_numeris` - viešas kintamasis\n",
    "- `savininkas` - viešas kintamasis\n",
    "- `likutis` - privatus kintamasis\n",
    "- `PIN_kodas` - privatus kintamasis\n",
    "\n",
    "### Metodai\n",
    "#### Pinigų Išėmimas\n",
    "- Sukurkite metodą `isimti_pinigus`, kuris leidžia išgryninti pinigus iš sąskaitos.\n",
    "- PIN kodas, reikalingas pinigų išėmimui, turi būti patikrintas ir žinomas tik klasės viduje.\n",
    "\n",
    "#### Pinigų Įnešimas\n",
    "- Sukurkite metodą `ideti_pinigus`, kuris leidžia įnešti pinigų į sąskaitą."
   ]
  },
  {
   "cell_type": "code",
   "execution_count": 16,
   "metadata": {},
   "outputs": [
    {
     "name": "stdout",
     "output_type": "stream",
     "text": [
      "Invalid password. Unable to scan.\n",
      "200 € successfully read. Current account balance: 800 €\n",
      "100 € successfully read. Current account balance: 700 €\n",
      "500 € successfully topped up. Current account balance: 1200 €\n"
     ]
    }
   ],
   "source": [
    "class BankAccount:\n",
    "     def __init__(self, account_number, owner, balance, pin_code):\n",
    "         self.account_number = account_number\n",
    "         self.owner = owner\n",
    "         self.__balance = balance\n",
    "         self.__pin_code = pin_code\n",
    "\n",
    "     def scan(self, sum, pin_code):\n",
    "         if pin_code == self.__pin_code:\n",
    "             self.__balance -= sum\n",
    "             print(f'{sum} € successfully read. Current account balance: {self.__balance} €')\n",
    "         else:\n",
    "             print('Invalid password. Unable to scan.')\n",
    "\n",
    "     def add(self, amount, pin_code):\n",
    "         if pin_code == self.__pin_code:\n",
    "             self.__balance += amount\n",
    "             print(f'{amount} € successfully topped up. Current account balance: {self.__balance} €')\n",
    "         else:\n",
    "             print('Invalid password. Unable to add.')\n",
    "\n",
    "account = BankAccount('LT123456789', 'Jonas Jonaitis', 1000, 1234)\n",
    "\n",
    "account.scan(100, 1122)\n",
    "account.scan(200, 1234)\n",
    "account.scan(100, 1234)\n",
    "account.add(500, 1234)"
   ]
  },
  {
   "cell_type": "code",
   "execution_count": 17,
   "metadata": {},
   "outputs": [
    {
     "name": "stdout",
     "output_type": "stream",
     "text": [
      "Deposited 500. New balance is 1500.\n",
      "Withdrew 200. New balance is 1300.\n",
      "Invalid PIN. Access denied.\n",
      "The account balance is: 1300\n"
     ]
    }
   ],
   "source": [
    "class BankAccount:\n",
    "    def __init__(self, account_number, owner, balance, pin):\n",
    "        self.account_number = account_number\n",
    "        self.owner = owner\n",
    "        self.__balance = balance  # Private attribute\n",
    "        self.__pin = pin  # Private attribute\n",
    "\n",
    "    def __validate_pin(self, input_pin):\n",
    "        return input_pin == self.__pin\n",
    "\n",
    "    def withdraw(self, amount, pin):\n",
    "        if not self.__validate_pin(pin):\n",
    "            print(\"Invalid PIN. Access denied.\")\n",
    "            return False\n",
    "\n",
    "        if amount > self.__balance:\n",
    "            print(\"Insufficient balance.\")\n",
    "            return False\n",
    "\n",
    "        self.__balance -= amount\n",
    "        print(f\"Withdrew {amount}. New balance is {self.__balance}.\")\n",
    "        return True\n",
    "\n",
    "    def deposit(self, amount):\n",
    "        self.__balance += amount\n",
    "        print(f\"Deposited {amount}. New balance is {self.__balance}.\")\n",
    "\n",
    "    def get_balance(self, pin):\n",
    "        if not self.__validate_pin(pin):\n",
    "            print(\"Invalid PIN. Access denied.\")\n",
    "            return None\n",
    "        \n",
    "        return self.__balance\n",
    "    \n",
    "\n",
    "# Create a bank account instance\n",
    "account = BankAccount(account_number=\"12345678\", owner=\"John Doe\", balance=1000, pin=\"4321\")\n",
    "\n",
    "# Deposit money\n",
    "account.deposit(500)\n",
    "\n",
    "# Attempt to withdraw money with the correct PIN\n",
    "account.withdraw(200, \"4321\")\n",
    "\n",
    "# Attempt to withdraw money with the incorrect PIN\n",
    "account.withdraw(500, \"1234\")\n",
    "\n",
    "# Check balance with the correct PIN\n",
    "print(f\"The account balance is: {account.get_balance('4321')}\")"
   ]
  },
  {
   "cell_type": "markdown",
   "metadata": {},
   "source": [
    "---\n",
    "\n",
    "### Bonus Užduotis: Knygų Klasė\n",
    "\n",
    "### Apžvalga\n",
    "Sukurkite `Book` klasę, kuri atitiktų šias specifikacijas.\n",
    "\n",
    "### Klasės Specifikacija\n",
    "\n",
    "1. **Kintamieji**\n",
    "   - Sukurkite šiuos privačius kintamuosius:\n",
    "     - `__title` (pavadinimas): knygos pavadinimas\n",
    "     - `__author` (autorius): knygos autoriaus vardas\n",
    "     - `__condition` (būklė): knygos būklė\n",
    "     - `__page_count` (puslapių skaičius): puslapių skaičius knygoje\n",
    "\n",
    "2. **Metodai Duomenims Gauti**\n",
    "   - Sukurkite viešus metodus, kad gautumėte kiekvieną privačią savybę:\n",
    "     - `get_title` - grąžina knygos pavadinimą\n",
    "     - `get_author` - grąžina autoriaus vardą\n",
    "     - `get_condition` - grąžina knygos būklę\n",
    "     - `get_page_count` - grąžina puslapių skaičių\n",
    "\n",
    "3. **Būklės Keitimo Metodas**\n",
    "   - Sukurkite viešą metodą `change_condition`, kuris priima vieną argumentą:\n",
    "     - `new_condition` - nauja knygos būklė, kuri gali būti viena iš šių reikšmių: 'patenkinama', 'prasta', 'atnaujinta', 'sugadinta'.\n",
    "     - Šis metodas turi patikrinti, ar `new_condition` yra viena iš leistinų reikšmių ir, jei taip, atnaujinti knygos būklę.\n",
    "\n",
    "4. **Puslapių Skaičiaus Mažinimo Metodas**\n",
    "   - Sukurkite privatų metodą `__decrease_page_count`, kuris priima vieną argumentą:\n",
    "     - `decrease_by` - skaičius, kiek puslapių reikia sumažinti.\n",
    "     - Šis metodas turėtų sumažinti `__page_count` reikšmę, bet negali leisti puslapių skaičiui tapti neigiamu.\n",
    "   - Sukurkite viešą metodą `remove_pages`, kuris kviečia `__decrease_page_count` metodą.\n",
    "\n",
    "## Reikalavimai\n",
    "\n",
    "- Užtikrinkite, kad visi kintamieji būtų privačiai prieinami tik klasei.\n",
    "- Visi viešieji metodai turi būti saugūs ir neturi leisti objekto būsenai tapti neteisingai (pvz., puslapių skaičius negali būti neigiamas).\n",
    "- Viešieji metodai turėtų turėti prasmingus patikrinimus, kad būtų išvengta netinkamo jų naudojimo."
   ]
  },
  {
   "cell_type": "code",
   "execution_count": 1,
   "metadata": {},
   "outputs": [
    {
     "name": "stdout",
     "output_type": "stream",
     "text": [
      "Netinkama būklė. Galimos būklės yra: 'patenkinama', 'prasta', 'atnaujinta', 'sugadinta'.\n",
      "331\n"
     ]
    }
   ],
   "source": [
    "class Book:\n",
    "    def __init__(self, title, author, condition, page_count):\n",
    "        self.__title = title\n",
    "        self.__author = author\n",
    "        self.__condition = condition\n",
    "        self.__page_count = page_count\n",
    "\n",
    "    def get_title(self):\n",
    "        return self.__title\n",
    "\n",
    "    def get_author(self):\n",
    "        return self.__author\n",
    "\n",
    "    def get_condition(self):\n",
    "        return self.__condition\n",
    "\n",
    "    def get_page_count(self):\n",
    "        return self.__page_count\n",
    "\n",
    "    def change_condition(self, new_condition):\n",
    "        allowed_conditions = ['patenkinama', 'prasta', 'atnaujinta', 'sugadinta']\n",
    "        if new_condition in allowed_conditions:\n",
    "            self.__condition = new_condition\n",
    "        else:\n",
    "            print(\"Netinkama būklė. Galimos būklės yra: 'patenkinama', 'prasta', 'atnaujinta', 'sugadinta'.\")\n",
    "\n",
    "    def __decrease_page_count(self, decrease_by):\n",
    "        if decrease_by < 0:\n",
    "            print(\"Klaida: Neigiama puslapių skaičiaus mažinimo reikšmė.\")\n",
    "            return\n",
    "        if self.__page_count - decrease_by < 0:\n",
    "            print(\"Klaida: Puslapių skaičius negali būti neigiamas.\")\n",
    "        else:\n",
    "            self.__page_count -= decrease_by\n",
    "\n",
    "    def remove_pages(self, decrease_by):\n",
    "        self.__decrease_page_count(decrease_by)\n",
    "\n",
    "# Pavyzdžio naudojimas\n",
    "my_book = Book(\"Haris Poteris ir Išminties Akmuo\", \"J.K. Rowling\", \"nauja\", 336)\n",
    "\n",
    "# my_book.change_condition(\"patenkinama\")\n",
    "my_book.change_condition(\"suplysusi\")\n",
    "\n",
    "my_book.remove_pages(5)\n",
    "print(my_book.get_page_count())  # Turi spausdinti 331"
   ]
  }
 ],
 "metadata": {
  "kernelspec": {
   "display_name": "venv",
   "language": "python",
   "name": "python3"
  },
  "language_info": {
   "codemirror_mode": {
    "name": "ipython",
    "version": 3
   },
   "file_extension": ".py",
   "mimetype": "text/x-python",
   "name": "python",
   "nbconvert_exporter": "python",
   "pygments_lexer": "ipython3",
   "version": "3.11.7"
  }
 },
 "nbformat": 4,
 "nbformat_minor": 2
}
