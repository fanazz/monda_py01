{
 "cells": [
  {
   "cell_type": "markdown",
   "metadata": {},
   "source": [
    "# Time and Date Formatting"
   ]
  },
  {
   "cell_type": "markdown",
   "metadata": {},
   "source": [
    "### `datetime` class"
   ]
  },
  {
   "cell_type": "code",
   "execution_count": null,
   "metadata": {},
   "outputs": [],
   "source": [
    "from datetime import datetime\n",
    "\n",
    "now = datetime(2023, 10, 26, 18, 58, 20)\n",
    "\n",
    "print(now)"
   ]
  },
  {
   "cell_type": "markdown",
   "metadata": {},
   "source": [
    "### `datetime.now()` function"
   ]
  },
  {
   "cell_type": "code",
   "execution_count": null,
   "metadata": {},
   "outputs": [],
   "source": [
    "from datetime import datetime\n",
    "\n",
    "now = datetime.now()\n",
    "# turns current date into an object\n",
    "\n",
    "print(now) # you will get standart time\n",
    "\n"
   ]
  },
  {
   "cell_type": "markdown",
   "metadata": {},
   "source": [
    "### Quick Assignement 1\n",
    "\n",
    "Write a program that would give a current time, but it would give only minutes and seconds"
   ]
  },
  {
   "cell_type": "markdown",
   "metadata": {},
   "source": [
    "### `date` class"
   ]
  },
  {
   "cell_type": "code",
   "execution_count": null,
   "metadata": {},
   "outputs": [],
   "source": [
    "from datetime import date\n",
    "\n",
    "# verys similar to `datetime` but we do not get the time\n",
    "\n",
    "today = date(2023, 11, 26)\n",
    "\n",
    "print(today)"
   ]
  },
  {
   "cell_type": "markdown",
   "metadata": {},
   "source": [
    "### `date.today()` function"
   ]
  },
  {
   "cell_type": "code",
   "execution_count": null,
   "metadata": {},
   "outputs": [],
   "source": [
    "from datetime import date\n",
    "\n",
    "# very similar `datetime.now()` function, however, we do not get the time\n",
    "\n",
    "today = date.today()\n",
    "\n",
    "print(today)"
   ]
  },
  {
   "cell_type": "markdown",
   "metadata": {},
   "source": [
    "### `datetime.timedelta` class"
   ]
  },
  {
   "cell_type": "code",
   "execution_count": null,
   "metadata": {},
   "outputs": [],
   "source": [
    "from datetime import datetime, timedelta\n",
    "\n",
    "now = datetime.now()\n",
    "print(\"Current time:\", now)\n",
    "\n",
    "# We add 8 days to current date\n",
    "after_8_days = now + timedelta(days=8)\n",
    "print(\"After 8 days :\", after_8_days)\n",
    "\n",
    "# We substract 4 hours from the current time\n",
    "four_hours_ago = now - timedelta(hours=4)\n",
    "print(\"4 hours ago:\", four_hours_ago)\n"
   ]
  },
  {
   "cell_type": "markdown",
   "metadata": {},
   "source": [
    "### Math with date and time"
   ]
  },
  {
   "cell_type": "code",
   "execution_count": null,
   "metadata": {},
   "outputs": [],
   "source": [
    "\n",
    "# Difference between two dates\n",
    "date1 = datetime(2023, 10, 17)\n",
    "date2 = datetime(2021, 6, 17)\n",
    "difference = date1 - date2\n",
    "print(\"Difference between dates:\", difference)\n"
   ]
  },
  {
   "cell_type": "markdown",
   "metadata": {},
   "source": [
    "## Date and time formating `strftime`\n",
    "\n",
    "`datetime` module function `strftime` permits to transform time and date object into a string.\n"
   ]
  },
  {
   "cell_type": "code",
   "execution_count": null,
   "metadata": {},
   "outputs": [],
   "source": [
    "from datetime import datetime\n",
    "\n",
    "date = datetime(2023, 10, 26, 19, 30, 0) # we enter the date\n",
    "string_formant = \"%Y-%m-%d %H:%M:%S\" # we enter the string \n",
    "\n",
    "date_string = date.strftime(string_formant)\n",
    "print(date_string)"
   ]
  },
  {
   "cell_type": "markdown",
   "metadata": {},
   "source": [
    "%Y, %m, %d, %H, %M ir %S symbols correspont to years, months, days, hours, minutes and seconds"
   ]
  },
  {
   "cell_type": "markdown",
   "metadata": {},
   "source": [
    "### Quick Assignement 2\n",
    "\n",
    "Create a function that accepts a date of birth as a string (in the format \"%Y-%m-%d\") and returns the number of days until your birthday"
   ]
  },
  {
   "cell_type": "markdown",
   "metadata": {},
   "source": [
    "## Formatting date and time from string using `strptime`"
   ]
  },
  {
   "cell_type": "markdown",
   "metadata": {},
   "source": [
    "Python allows you to format a string of text into a datetime object."
   ]
  },
  {
   "cell_type": "code",
   "execution_count": null,
   "metadata": {},
   "outputs": [],
   "source": [
    "from datetime import datetime\n",
    "\n",
    "date = \"2023-10-26 19:30:00\"\n",
    "string_format = \"%Y-%m-%d %H:%M:%S\"\n",
    "\n",
    "date_object = datetime.strptime(date, string_format)\n",
    "print(date_object)"
   ]
  },
  {
   "cell_type": "markdown",
   "metadata": {},
   "source": [
    "### Quick Assignement 3\n",
    "\n",
    "Write a program that accepts a date and time in string format (for example, \"2023-05-21 15:30\"), adds 48 hours to it, and returns the new date and time in string format."
   ]
  },
  {
   "cell_type": "markdown",
   "metadata": {},
   "source": [
    "## Representing dates and times as numbers using `timestamp`\n",
    "\n",
    "Timestamp is a number that shows how many seconds have passed since 1970. January 1, 00:00:00 (UTC). Python allows you to convert datetime objects to timestamps and back. Here's how to do it:"
   ]
  },
  {
   "cell_type": "code",
   "execution_count": 1,
   "metadata": {},
   "outputs": [
    {
     "name": "stdout",
     "output_type": "stream",
     "text": [
      "1698334200.0\n"
     ]
    }
   ],
   "source": [
    "\n",
    "from datetime import datetime\n",
    "import time\n",
    "\n",
    "date_obj = datetime(2023, 10, 26, 18, 30, 0)\n",
    "\n",
    "timestamp = time.mktime(date_obj.timetuple())\n",
    "print(timestamp)\n"
   ]
  },
  {
   "cell_type": "markdown",
   "metadata": {},
   "source": [
    "\n",
    "### Converting timestamp into a date object\n"
   ]
  },
  {
   "cell_type": "code",
   "execution_count": 2,
   "metadata": {},
   "outputs": [
    {
     "name": "stdout",
     "output_type": "stream",
     "text": [
      "2023-10-26 19:30:00\n"
     ]
    }
   ],
   "source": [
    "\n",
    "from datetime import datetime\n",
    "import time\n",
    "\n",
    "timestamp = 1698337800\n",
    "\n",
    "date_obj = datetime.fromtimestamp(timestamp)\n",
    "print(date_obj)\n"
   ]
  },
  {
   "cell_type": "markdown",
   "metadata": {},
   "source": [
    "### Quick Assignement 4\n",
    "\n",
    "Write a program that accepts two periods as timestamps and returns the difference in days between the periods."
   ]
  },
  {
   "cell_type": "markdown",
   "metadata": {},
   "source": [
    "### Quick Assignement 5\n",
    "\n",
    "Create a function that accepts a date as a string (for example, \"06/01/2023\") and returns what day of the week that date is (for example, \"Monday\", \"Tuesday\", etc.)."
   ]
  }
 ],
 "metadata": {
  "kernelspec": {
   "display_name": "Python 3",
   "language": "python",
   "name": "python3"
  },
  "language_info": {
   "codemirror_mode": {
    "name": "ipython",
    "version": 3
   },
   "file_extension": ".py",
   "mimetype": "text/x-python",
   "name": "python",
   "nbconvert_exporter": "python",
   "pygments_lexer": "ipython3",
   "version": "3.11.7"
  }
 },
 "nbformat": 4,
 "nbformat_minor": 2
}
